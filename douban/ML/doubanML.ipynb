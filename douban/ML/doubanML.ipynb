{
 "cells": [
  {
   "cell_type": "code",
   "execution_count": 2,
   "metadata": {},
   "outputs": [],
   "source": [
    "import pandas as pd"
   ]
  },
  {
   "cell_type": "code",
   "execution_count": 3,
   "metadata": {},
   "outputs": [],
   "source": [
    "df = pd.read_csv('douban.csv')"
   ]
  },
  {
   "cell_type": "code",
   "execution_count": 4,
   "metadata": {},
   "outputs": [
    {
     "name": "stdout",
     "output_type": "stream",
     "text": [
      "<class 'pandas.core.frame.DataFrame'>\n",
      "RangeIndex: 9136 entries, 0 to 9135\n",
      "Data columns (total 21 columns):\n",
      "rank            9136 non-null int64\n",
      "name            9136 non-null object\n",
      "directors       9136 non-null object\n",
      "actors          9136 non-null object\n",
      "type            9136 non-null object\n",
      "showdate        9136 non-null int64\n",
      "runtime         9136 non-null int64\n",
      "showplace       9136 non-null object\n",
      "language        9136 non-null object\n",
      "score           9136 non-null float64\n",
      "vote            9136 non-null int64\n",
      "shortcomment    9136 non-null int64\n",
      "longcomment     9136 non-null int64\n",
      "seen            9136 non-null int64\n",
      "tosee           9136 non-null int64\n",
      "fivestars       9136 non-null float64\n",
      "fourstars       9136 non-null float64\n",
      "threestars      9136 non-null float64\n",
      "twostars        9136 non-null float64\n",
      "onestar         9136 non-null float64\n",
      "oscar           9136 non-null int64\n",
      "dtypes: float64(6), int64(9), object(6)\n",
      "memory usage: 1.5+ MB\n"
     ]
    }
   ],
   "source": [
    "df.info()"
   ]
  },
  {
   "cell_type": "code",
   "execution_count": 5,
   "metadata": {},
   "outputs": [
    {
     "data": {
      "text/html": [
       "<div>\n",
       "<style scoped>\n",
       "    .dataframe tbody tr th:only-of-type {\n",
       "        vertical-align: middle;\n",
       "    }\n",
       "\n",
       "    .dataframe tbody tr th {\n",
       "        vertical-align: top;\n",
       "    }\n",
       "\n",
       "    .dataframe thead th {\n",
       "        text-align: right;\n",
       "    }\n",
       "</style>\n",
       "<table border=\"1\" class=\"dataframe\">\n",
       "  <thead>\n",
       "    <tr style=\"text-align: right;\">\n",
       "      <th></th>\n",
       "      <th>rank</th>\n",
       "      <th>name</th>\n",
       "      <th>directors</th>\n",
       "      <th>actors</th>\n",
       "      <th>type</th>\n",
       "      <th>showdate</th>\n",
       "      <th>runtime</th>\n",
       "      <th>showplace</th>\n",
       "      <th>language</th>\n",
       "      <th>score</th>\n",
       "      <th>...</th>\n",
       "      <th>shortcomment</th>\n",
       "      <th>longcomment</th>\n",
       "      <th>seen</th>\n",
       "      <th>tosee</th>\n",
       "      <th>fivestars</th>\n",
       "      <th>fourstars</th>\n",
       "      <th>threestars</th>\n",
       "      <th>twostars</th>\n",
       "      <th>onestar</th>\n",
       "      <th>oscar</th>\n",
       "    </tr>\n",
       "  </thead>\n",
       "  <tbody>\n",
       "    <tr>\n",
       "      <th>0</th>\n",
       "      <td>1</td>\n",
       "      <td>肖申克的救赎</td>\n",
       "      <td>弗兰克·德拉邦特</td>\n",
       "      <td>蒂姆·罗宾斯</td>\n",
       "      <td>剧情</td>\n",
       "      <td>1994</td>\n",
       "      <td>142</td>\n",
       "      <td>美国</td>\n",
       "      <td>英语</td>\n",
       "      <td>9.6</td>\n",
       "      <td>...</td>\n",
       "      <td>243769</td>\n",
       "      <td>7116</td>\n",
       "      <td>1471071</td>\n",
       "      <td>144322</td>\n",
       "      <td>83.5</td>\n",
       "      <td>14.6</td>\n",
       "      <td>1.7</td>\n",
       "      <td>0.1</td>\n",
       "      <td>0.1</td>\n",
       "      <td>0</td>\n",
       "    </tr>\n",
       "    <tr>\n",
       "      <th>1</th>\n",
       "      <td>1</td>\n",
       "      <td>肖申克的救赎</td>\n",
       "      <td>弗兰克·德拉邦特</td>\n",
       "      <td>布赖恩·利比</td>\n",
       "      <td>犯罪</td>\n",
       "      <td>1994</td>\n",
       "      <td>142</td>\n",
       "      <td>美国</td>\n",
       "      <td>英语</td>\n",
       "      <td>9.6</td>\n",
       "      <td>...</td>\n",
       "      <td>243769</td>\n",
       "      <td>7116</td>\n",
       "      <td>1471071</td>\n",
       "      <td>144322</td>\n",
       "      <td>83.5</td>\n",
       "      <td>14.6</td>\n",
       "      <td>1.7</td>\n",
       "      <td>0.1</td>\n",
       "      <td>0.1</td>\n",
       "      <td>0</td>\n",
       "    </tr>\n",
       "    <tr>\n",
       "      <th>2</th>\n",
       "      <td>1</td>\n",
       "      <td>肖申克的救赎</td>\n",
       "      <td>弗兰克·德拉邦特</td>\n",
       "      <td>摩根·弗里曼</td>\n",
       "      <td>剧情</td>\n",
       "      <td>1994</td>\n",
       "      <td>142</td>\n",
       "      <td>美国</td>\n",
       "      <td>英语</td>\n",
       "      <td>9.6</td>\n",
       "      <td>...</td>\n",
       "      <td>243769</td>\n",
       "      <td>7116</td>\n",
       "      <td>1471071</td>\n",
       "      <td>144322</td>\n",
       "      <td>83.5</td>\n",
       "      <td>14.6</td>\n",
       "      <td>1.7</td>\n",
       "      <td>0.1</td>\n",
       "      <td>0.1</td>\n",
       "      <td>0</td>\n",
       "    </tr>\n",
       "    <tr>\n",
       "      <th>3</th>\n",
       "      <td>1</td>\n",
       "      <td>肖申克的救赎</td>\n",
       "      <td>弗兰克·德拉邦特</td>\n",
       "      <td>摩根·弗里曼</td>\n",
       "      <td>犯罪</td>\n",
       "      <td>1994</td>\n",
       "      <td>142</td>\n",
       "      <td>美国</td>\n",
       "      <td>英语</td>\n",
       "      <td>9.6</td>\n",
       "      <td>...</td>\n",
       "      <td>243769</td>\n",
       "      <td>7116</td>\n",
       "      <td>1471071</td>\n",
       "      <td>144322</td>\n",
       "      <td>83.5</td>\n",
       "      <td>14.6</td>\n",
       "      <td>1.7</td>\n",
       "      <td>0.1</td>\n",
       "      <td>0.1</td>\n",
       "      <td>0</td>\n",
       "    </tr>\n",
       "    <tr>\n",
       "      <th>4</th>\n",
       "      <td>1</td>\n",
       "      <td>肖申克的救赎</td>\n",
       "      <td>弗兰克·德拉邦特</td>\n",
       "      <td>大卫·普罗瓦尔</td>\n",
       "      <td>剧情</td>\n",
       "      <td>1994</td>\n",
       "      <td>142</td>\n",
       "      <td>美国</td>\n",
       "      <td>英语</td>\n",
       "      <td>9.6</td>\n",
       "      <td>...</td>\n",
       "      <td>243769</td>\n",
       "      <td>7116</td>\n",
       "      <td>1471071</td>\n",
       "      <td>144322</td>\n",
       "      <td>83.5</td>\n",
       "      <td>14.6</td>\n",
       "      <td>1.7</td>\n",
       "      <td>0.1</td>\n",
       "      <td>0.1</td>\n",
       "      <td>0</td>\n",
       "    </tr>\n",
       "  </tbody>\n",
       "</table>\n",
       "<p>5 rows × 21 columns</p>\n",
       "</div>"
      ],
      "text/plain": [
       "   rank    name directors   actors type  showdate  runtime showplace language  \\\n",
       "0     1  肖申克的救赎  弗兰克·德拉邦特   蒂姆·罗宾斯   剧情      1994      142        美国       英语   \n",
       "1     1  肖申克的救赎  弗兰克·德拉邦特   布赖恩·利比   犯罪      1994      142        美国       英语   \n",
       "2     1  肖申克的救赎  弗兰克·德拉邦特   摩根·弗里曼   剧情      1994      142        美国       英语   \n",
       "3     1  肖申克的救赎  弗兰克·德拉邦特   摩根·弗里曼   犯罪      1994      142        美国       英语   \n",
       "4     1  肖申克的救赎  弗兰克·德拉邦特  大卫·普罗瓦尔   剧情      1994      142        美国       英语   \n",
       "\n",
       "   score  ...    shortcomment  longcomment     seen   tosee  fivestars  \\\n",
       "0    9.6  ...          243769         7116  1471071  144322       83.5   \n",
       "1    9.6  ...          243769         7116  1471071  144322       83.5   \n",
       "2    9.6  ...          243769         7116  1471071  144322       83.5   \n",
       "3    9.6  ...          243769         7116  1471071  144322       83.5   \n",
       "4    9.6  ...          243769         7116  1471071  144322       83.5   \n",
       "\n",
       "   fourstars  threestars  twostars  onestar  oscar  \n",
       "0       14.6         1.7       0.1      0.1      0  \n",
       "1       14.6         1.7       0.1      0.1      0  \n",
       "2       14.6         1.7       0.1      0.1      0  \n",
       "3       14.6         1.7       0.1      0.1      0  \n",
       "4       14.6         1.7       0.1      0.1      0  \n",
       "\n",
       "[5 rows x 21 columns]"
      ]
     },
     "execution_count": 5,
     "metadata": {},
     "output_type": "execute_result"
    }
   ],
   "source": [
    "df.head()"
   ]
  },
  {
   "cell_type": "code",
   "execution_count": 7,
   "metadata": {},
   "outputs": [
    {
     "data": {
      "text/plain": [
       "array(['弗兰克·德拉邦特', '陈凯歌', '吕克·贝松', '罗伯特·泽米吉斯', '罗伯托·贝尼尼', '詹姆斯·卡梅隆',\n",
       "       '宫崎骏', '史蒂文·斯皮尔伯格', '克里斯托弗·诺兰', '安德鲁·斯坦顿', '拉斯·霍尔斯道姆', '拉吉库马尔·希拉尼',\n",
       "       '朱塞佩·托纳多雷', '克里斯托夫·巴拉蒂', '刘镇伟', '彼得·威尔', '弗朗西斯·福特·科波拉', '黄东赫',\n",
       "       '刘伟强', '奥利维埃·纳卡什', '加布里埃莱·穆奇诺', '维克多·弗莱明', '罗伯·莱纳', '拜伦·霍华德',\n",
       "       '张艺谋', '西德尼·吕美特', '李安', '姜文', '彼得·杰克逊', '大卫·芬奇', '比利·怀德', '彼特·道格特',\n",
       "       '威廉·惠勒', '弗洛里安·亨克尔·冯·多纳斯马尔克', '涅提·蒂瓦里', '盖·里奇', '杨宇硕', '马丁·布莱斯特',\n",
       "       '米洛斯·福尔曼', '詹姆斯·麦克特格', '路易·西霍尤斯', '朗·霍华德', '岩井俊二', '李濬益', '罗杰·阿勒斯',\n",
       "       '赛尔乔·莱翁内', '罗曼·波兰斯基', '马基德·马基迪', '中岛哲也', '让-皮埃尔·热内', '莉莉·沃卓斯基',\n",
       "       '罗伯特·怀斯', '奥里奥尔·保罗', '贝纳尔多·贝托鲁奇', '昆汀·塔伦蒂诺', '梅尔·吉布森', '蒂姆·波顿',\n",
       "       '乔纳森·戴米', '万籁鸣', '埃里克·布雷斯', '王家卫', '泷田洋二郎', '格斯·范·桑特', '克里斯·哥伦布',\n",
       "       '亚当·艾略特', '韦斯·安德森', '马丁·斯科塞斯', 'M·奈特·沙马兰', '托马斯·温特伯格', '詹姆斯·曼高德',\n",
       "       '马克·赫尔曼', '戈尔·维宾斯基', '查理·卓别林', '杨德昌', '陈可辛', '姜炯哲', '理查德·林克莱特',\n",
       "       '卡迪亚·兰德', '近藤喜文', '托尼·凯耶', '森淳一', '周星驰', '程小东', '金秉祐', '今敏', '北野武',\n",
       "       '迪恩·德布洛斯', '皮埃尔·柯芬', '米林宏昌', '罗启锐', '奉俊昊', '黑泽明', '高畑勋',\n",
       "       '保罗·格林格拉斯', '丹尼·博伊尔', '温子仁', '卢卡·瓜达尼诺', '理查德·柯蒂斯', '达伦·阿伦诺夫斯基',\n",
       "       '柯克·德·米科', '大卫·叶茨', '大森贵弘', '李焕庆', '巴瑞·莱文森', '吴宇森', '特瑞·乔治',\n",
       "       '雅克·贝汉', '忻钰坤', '唐·霍尔', '李力持', '达米安·斯兹弗隆', '乔·赖特', '肯尼思·洛纳根',\n",
       "       '热拉尔·乌里', '爱德华·兹威克', '李·昂克里奇', '克林特·伊斯特伍德', '尼克·卡萨维茨', '是枝裕和',\n",
       "       '让-马克·瓦雷', '郭柯', '斯坦利·多南', '茂文·勒鲁瓦', '细田守', '杰茜·尼尔森', '卡洛斯·沙尔丹哈',\n",
       "       '达米恩·查泽雷', '丹尼斯·甘塞尔', '史蒂芬·戴德利', '汤姆·提克威', '新海诚', '陆川',\n",
       "       '克里斯托弗·史密斯', '伦尼·阿伯拉罕森', '阿斯哈·法哈蒂', '安德鲁·尼科尔', '保罗·哈吉斯', '莫滕·泰杜姆',\n",
       "       '汉内斯·赫尔姆', '神山征二郎', '阿米尔·汗', '保罗·格诺维塞', '道格·里曼', '严定宪', '徐克',\n",
       "       '阿尔弗雷德·希区柯克', '卡比尔·汗', '约翰·卡尼', '小津安二郎', '李惠民', '邓肯·琼斯', '雷德利·斯科特',\n",
       "       '普特鹏·普罗萨卡·那·萨克那卡林', '瑞奇·摩尔', '理查德·沙因克曼', '宁浩', '迈克尔·贝', '迈克尔·柯蒂兹',\n",
       "       '斯坦利·库布里克', '詹姆斯·沃德·布柯特', '萨姆·门德斯', '汤姆·麦卡锡', '西恩·潘', '汤姆·霍珀',\n",
       "       '布莱恩·辛格', '安东尼·明格拉', '秋昌旼', '加文·欧康诺', '杜琪峰', '彼得·维纳', '大卫·林奇',\n",
       "       '加美·尤伊斯', '艾伦·帕克', '易智言'], dtype=object)"
      ]
     },
     "execution_count": 7,
     "metadata": {},
     "output_type": "execute_result"
    }
   ],
   "source": [
    "df['directors'].unique()"
   ]
  },
  {
   "cell_type": "code",
   "execution_count": 9,
   "metadata": {},
   "outputs": [
    {
     "name": "stdout",
     "output_type": "stream",
     "text": [
      "100\n",
      "100\n",
      "数据维度为：(100, 2)\n",
      "100\n",
      "   a    b\n",
      "0  0  100\n",
      "1  1  101\n",
      "2  2  102\n",
      "3  3  103\n",
      "4  4  104\n"
     ]
    }
   ],
   "source": [
    "import pandas as pd\n",
    "import numpy as np\n",
    "\n",
    "# 100分别用 10，100，...，10,000,000来替换运行\n",
    "list_a = list(range(100))\n",
    "# 200分别用 20，200，...，20,000,000来替换运行\n",
    "list_b = list(range(100,200))\n",
    "print(len(list_a))\n",
    "print(len(list_b))\n",
    "\n",
    "df = pd.DataFrame({'a':list_a, 'b':list_b})\n",
    "print('数据维度为：{}'.format(df.shape))\n",
    "print(len(df))\n",
    "print(df.head())"
   ]
  },
  {
   "cell_type": "code",
   "execution_count": 10,
   "metadata": {},
   "outputs": [
    {
     "data": {
      "text/html": [
       "<div>\n",
       "<style scoped>\n",
       "    .dataframe tbody tr th:only-of-type {\n",
       "        vertical-align: middle;\n",
       "    }\n",
       "\n",
       "    .dataframe tbody tr th {\n",
       "        vertical-align: top;\n",
       "    }\n",
       "\n",
       "    .dataframe thead th {\n",
       "        text-align: right;\n",
       "    }\n",
       "</style>\n",
       "<table border=\"1\" class=\"dataframe\">\n",
       "  <thead>\n",
       "    <tr style=\"text-align: right;\">\n",
       "      <th></th>\n",
       "      <th>a</th>\n",
       "      <th>b</th>\n",
       "    </tr>\n",
       "  </thead>\n",
       "  <tbody>\n",
       "    <tr>\n",
       "      <th>0</th>\n",
       "      <td>0</td>\n",
       "      <td>100</td>\n",
       "    </tr>\n",
       "    <tr>\n",
       "      <th>1</th>\n",
       "      <td>1</td>\n",
       "      <td>101</td>\n",
       "    </tr>\n",
       "    <tr>\n",
       "      <th>2</th>\n",
       "      <td>2</td>\n",
       "      <td>102</td>\n",
       "    </tr>\n",
       "    <tr>\n",
       "      <th>3</th>\n",
       "      <td>3</td>\n",
       "      <td>103</td>\n",
       "    </tr>\n",
       "    <tr>\n",
       "      <th>4</th>\n",
       "      <td>4</td>\n",
       "      <td>104</td>\n",
       "    </tr>\n",
       "    <tr>\n",
       "      <th>5</th>\n",
       "      <td>5</td>\n",
       "      <td>105</td>\n",
       "    </tr>\n",
       "    <tr>\n",
       "      <th>6</th>\n",
       "      <td>6</td>\n",
       "      <td>106</td>\n",
       "    </tr>\n",
       "    <tr>\n",
       "      <th>7</th>\n",
       "      <td>7</td>\n",
       "      <td>107</td>\n",
       "    </tr>\n",
       "    <tr>\n",
       "      <th>8</th>\n",
       "      <td>8</td>\n",
       "      <td>108</td>\n",
       "    </tr>\n",
       "    <tr>\n",
       "      <th>9</th>\n",
       "      <td>9</td>\n",
       "      <td>109</td>\n",
       "    </tr>\n",
       "    <tr>\n",
       "      <th>10</th>\n",
       "      <td>10</td>\n",
       "      <td>110</td>\n",
       "    </tr>\n",
       "    <tr>\n",
       "      <th>11</th>\n",
       "      <td>11</td>\n",
       "      <td>111</td>\n",
       "    </tr>\n",
       "    <tr>\n",
       "      <th>12</th>\n",
       "      <td>12</td>\n",
       "      <td>112</td>\n",
       "    </tr>\n",
       "    <tr>\n",
       "      <th>13</th>\n",
       "      <td>13</td>\n",
       "      <td>113</td>\n",
       "    </tr>\n",
       "    <tr>\n",
       "      <th>14</th>\n",
       "      <td>14</td>\n",
       "      <td>114</td>\n",
       "    </tr>\n",
       "    <tr>\n",
       "      <th>15</th>\n",
       "      <td>15</td>\n",
       "      <td>115</td>\n",
       "    </tr>\n",
       "    <tr>\n",
       "      <th>16</th>\n",
       "      <td>16</td>\n",
       "      <td>116</td>\n",
       "    </tr>\n",
       "    <tr>\n",
       "      <th>17</th>\n",
       "      <td>17</td>\n",
       "      <td>117</td>\n",
       "    </tr>\n",
       "    <tr>\n",
       "      <th>18</th>\n",
       "      <td>18</td>\n",
       "      <td>118</td>\n",
       "    </tr>\n",
       "    <tr>\n",
       "      <th>19</th>\n",
       "      <td>19</td>\n",
       "      <td>119</td>\n",
       "    </tr>\n",
       "    <tr>\n",
       "      <th>20</th>\n",
       "      <td>20</td>\n",
       "      <td>120</td>\n",
       "    </tr>\n",
       "    <tr>\n",
       "      <th>21</th>\n",
       "      <td>21</td>\n",
       "      <td>121</td>\n",
       "    </tr>\n",
       "    <tr>\n",
       "      <th>22</th>\n",
       "      <td>22</td>\n",
       "      <td>122</td>\n",
       "    </tr>\n",
       "    <tr>\n",
       "      <th>23</th>\n",
       "      <td>23</td>\n",
       "      <td>123</td>\n",
       "    </tr>\n",
       "    <tr>\n",
       "      <th>24</th>\n",
       "      <td>24</td>\n",
       "      <td>124</td>\n",
       "    </tr>\n",
       "    <tr>\n",
       "      <th>25</th>\n",
       "      <td>25</td>\n",
       "      <td>125</td>\n",
       "    </tr>\n",
       "    <tr>\n",
       "      <th>26</th>\n",
       "      <td>26</td>\n",
       "      <td>126</td>\n",
       "    </tr>\n",
       "    <tr>\n",
       "      <th>27</th>\n",
       "      <td>27</td>\n",
       "      <td>127</td>\n",
       "    </tr>\n",
       "    <tr>\n",
       "      <th>28</th>\n",
       "      <td>28</td>\n",
       "      <td>128</td>\n",
       "    </tr>\n",
       "    <tr>\n",
       "      <th>29</th>\n",
       "      <td>29</td>\n",
       "      <td>129</td>\n",
       "    </tr>\n",
       "    <tr>\n",
       "      <th>...</th>\n",
       "      <td>...</td>\n",
       "      <td>...</td>\n",
       "    </tr>\n",
       "    <tr>\n",
       "      <th>70</th>\n",
       "      <td>70</td>\n",
       "      <td>170</td>\n",
       "    </tr>\n",
       "    <tr>\n",
       "      <th>71</th>\n",
       "      <td>71</td>\n",
       "      <td>171</td>\n",
       "    </tr>\n",
       "    <tr>\n",
       "      <th>72</th>\n",
       "      <td>72</td>\n",
       "      <td>172</td>\n",
       "    </tr>\n",
       "    <tr>\n",
       "      <th>73</th>\n",
       "      <td>73</td>\n",
       "      <td>173</td>\n",
       "    </tr>\n",
       "    <tr>\n",
       "      <th>74</th>\n",
       "      <td>74</td>\n",
       "      <td>174</td>\n",
       "    </tr>\n",
       "    <tr>\n",
       "      <th>75</th>\n",
       "      <td>75</td>\n",
       "      <td>175</td>\n",
       "    </tr>\n",
       "    <tr>\n",
       "      <th>76</th>\n",
       "      <td>76</td>\n",
       "      <td>176</td>\n",
       "    </tr>\n",
       "    <tr>\n",
       "      <th>77</th>\n",
       "      <td>77</td>\n",
       "      <td>177</td>\n",
       "    </tr>\n",
       "    <tr>\n",
       "      <th>78</th>\n",
       "      <td>78</td>\n",
       "      <td>178</td>\n",
       "    </tr>\n",
       "    <tr>\n",
       "      <th>79</th>\n",
       "      <td>79</td>\n",
       "      <td>179</td>\n",
       "    </tr>\n",
       "    <tr>\n",
       "      <th>80</th>\n",
       "      <td>80</td>\n",
       "      <td>180</td>\n",
       "    </tr>\n",
       "    <tr>\n",
       "      <th>81</th>\n",
       "      <td>81</td>\n",
       "      <td>181</td>\n",
       "    </tr>\n",
       "    <tr>\n",
       "      <th>82</th>\n",
       "      <td>82</td>\n",
       "      <td>182</td>\n",
       "    </tr>\n",
       "    <tr>\n",
       "      <th>83</th>\n",
       "      <td>83</td>\n",
       "      <td>183</td>\n",
       "    </tr>\n",
       "    <tr>\n",
       "      <th>84</th>\n",
       "      <td>84</td>\n",
       "      <td>184</td>\n",
       "    </tr>\n",
       "    <tr>\n",
       "      <th>85</th>\n",
       "      <td>85</td>\n",
       "      <td>185</td>\n",
       "    </tr>\n",
       "    <tr>\n",
       "      <th>86</th>\n",
       "      <td>86</td>\n",
       "      <td>186</td>\n",
       "    </tr>\n",
       "    <tr>\n",
       "      <th>87</th>\n",
       "      <td>87</td>\n",
       "      <td>187</td>\n",
       "    </tr>\n",
       "    <tr>\n",
       "      <th>88</th>\n",
       "      <td>88</td>\n",
       "      <td>188</td>\n",
       "    </tr>\n",
       "    <tr>\n",
       "      <th>89</th>\n",
       "      <td>89</td>\n",
       "      <td>189</td>\n",
       "    </tr>\n",
       "    <tr>\n",
       "      <th>90</th>\n",
       "      <td>90</td>\n",
       "      <td>190</td>\n",
       "    </tr>\n",
       "    <tr>\n",
       "      <th>91</th>\n",
       "      <td>91</td>\n",
       "      <td>191</td>\n",
       "    </tr>\n",
       "    <tr>\n",
       "      <th>92</th>\n",
       "      <td>92</td>\n",
       "      <td>192</td>\n",
       "    </tr>\n",
       "    <tr>\n",
       "      <th>93</th>\n",
       "      <td>93</td>\n",
       "      <td>193</td>\n",
       "    </tr>\n",
       "    <tr>\n",
       "      <th>94</th>\n",
       "      <td>94</td>\n",
       "      <td>194</td>\n",
       "    </tr>\n",
       "    <tr>\n",
       "      <th>95</th>\n",
       "      <td>95</td>\n",
       "      <td>195</td>\n",
       "    </tr>\n",
       "    <tr>\n",
       "      <th>96</th>\n",
       "      <td>96</td>\n",
       "      <td>196</td>\n",
       "    </tr>\n",
       "    <tr>\n",
       "      <th>97</th>\n",
       "      <td>97</td>\n",
       "      <td>197</td>\n",
       "    </tr>\n",
       "    <tr>\n",
       "      <th>98</th>\n",
       "      <td>98</td>\n",
       "      <td>198</td>\n",
       "    </tr>\n",
       "    <tr>\n",
       "      <th>99</th>\n",
       "      <td>99</td>\n",
       "      <td>199</td>\n",
       "    </tr>\n",
       "  </tbody>\n",
       "</table>\n",
       "<p>100 rows × 2 columns</p>\n",
       "</div>"
      ],
      "text/plain": [
       "     a    b\n",
       "0    0  100\n",
       "1    1  101\n",
       "2    2  102\n",
       "3    3  103\n",
       "4    4  104\n",
       "5    5  105\n",
       "6    6  106\n",
       "7    7  107\n",
       "8    8  108\n",
       "9    9  109\n",
       "10  10  110\n",
       "11  11  111\n",
       "12  12  112\n",
       "13  13  113\n",
       "14  14  114\n",
       "15  15  115\n",
       "16  16  116\n",
       "17  17  117\n",
       "18  18  118\n",
       "19  19  119\n",
       "20  20  120\n",
       "21  21  121\n",
       "22  22  122\n",
       "23  23  123\n",
       "24  24  124\n",
       "25  25  125\n",
       "26  26  126\n",
       "27  27  127\n",
       "28  28  128\n",
       "29  29  129\n",
       "..  ..  ...\n",
       "70  70  170\n",
       "71  71  171\n",
       "72  72  172\n",
       "73  73  173\n",
       "74  74  174\n",
       "75  75  175\n",
       "76  76  176\n",
       "77  77  177\n",
       "78  78  178\n",
       "79  79  179\n",
       "80  80  180\n",
       "81  81  181\n",
       "82  82  182\n",
       "83  83  183\n",
       "84  84  184\n",
       "85  85  185\n",
       "86  86  186\n",
       "87  87  187\n",
       "88  88  188\n",
       "89  89  189\n",
       "90  90  190\n",
       "91  91  191\n",
       "92  92  192\n",
       "93  93  193\n",
       "94  94  194\n",
       "95  95  195\n",
       "96  96  196\n",
       "97  97  197\n",
       "98  98  198\n",
       "99  99  199\n",
       "\n",
       "[100 rows x 2 columns]"
      ]
     },
     "execution_count": 10,
     "metadata": {},
     "output_type": "execute_result"
    }
   ],
   "source": [
    "df"
   ]
  },
  {
   "cell_type": "code",
   "execution_count": 11,
   "metadata": {},
   "outputs": [
    {
     "data": {
      "text/plain": [
       "0        0\n",
       "1        1\n",
       "2        4\n",
       "3        9\n",
       "4       16\n",
       "5       25\n",
       "6       36\n",
       "7       49\n",
       "8       64\n",
       "9       81\n",
       "10     100\n",
       "11     121\n",
       "12     144\n",
       "13     169\n",
       "14     196\n",
       "15     225\n",
       "16     256\n",
       "17     289\n",
       "18     324\n",
       "19     361\n",
       "20     400\n",
       "21     441\n",
       "22     484\n",
       "23     529\n",
       "24     576\n",
       "25     625\n",
       "26     676\n",
       "27     729\n",
       "28     784\n",
       "29     841\n",
       "      ... \n",
       "70    4900\n",
       "71    5041\n",
       "72    5184\n",
       "73    5329\n",
       "74    5476\n",
       "75    5625\n",
       "76    5776\n",
       "77    5929\n",
       "78    6084\n",
       "79    6241\n",
       "80    6400\n",
       "81    6561\n",
       "82    6724\n",
       "83    6889\n",
       "84    7056\n",
       "85    7225\n",
       "86    7396\n",
       "87    7569\n",
       "88    7744\n",
       "89    7921\n",
       "90    8100\n",
       "91    8281\n",
       "92    8464\n",
       "93    8649\n",
       "94    8836\n",
       "95    9025\n",
       "96    9216\n",
       "97    9409\n",
       "98    9604\n",
       "99    9801\n",
       "Name: a, Length: 100, dtype: int64"
      ]
     },
     "execution_count": 11,
     "metadata": {},
     "output_type": "execute_result"
    }
   ],
   "source": [
    "df['a']*df['a']"
   ]
  },
  {
   "cell_type": "markdown",
   "metadata": {},
   "source": [
    "# feature engineering"
   ]
  },
  {
   "cell_type": "code",
   "execution_count": 95,
   "metadata": {},
   "outputs": [],
   "source": [
    "from sklearn.preprocessing import LabelEncoder\n",
    "import numpy as np"
   ]
  },
  {
   "cell_type": "markdown",
   "metadata": {},
   "source": [
    "name"
   ]
  },
  {
   "cell_type": "code",
   "execution_count": 96,
   "metadata": {},
   "outputs": [
    {
     "name": "stdout",
     "output_type": "stream",
     "text": [
      "['剧情' '犯罪' '同性' '爱情' '动作' '喜剧' '战争' '灾难' '奇幻' '动画' '历史' '悬疑' '冒险' '科幻'\n",
      " '歌舞' '音乐' '家庭' '传记' '惊悚' '运动' '纪录片' '儿童' '情色' '西部' '古装' '武侠' '恐怖']\n",
      "['美国' '中国大陆' '法国' '意大利' '日本' '印度' '香港' '韩国' '德国' '英国' '新西兰' '台湾' '伊朗'\n",
      " '西班牙' '澳大利亚' '丹麦' '巴西' '阿根廷' '爱尔兰' '瑞典' '泰国' '博茨瓦纳']\n",
      "['英语' '汉语普通话' '意大利语' '日语' '印地语' '法语' '粤语' '韩语' '德语' '波斯语' '西班牙语' '丹麦语'\n",
      " '葡萄牙语' '瑞典语' '泰语']\n"
     ]
    }
   ],
   "source": [
    "print(df['type'].unique())\n",
    "print(df['showplace'].unique())\n",
    "print(df['language'].unique())"
   ]
  },
  {
   "cell_type": "markdown",
   "metadata": {},
   "source": [
    "rank"
   ]
  },
  {
   "cell_type": "code",
   "execution_count": 97,
   "metadata": {},
   "outputs": [],
   "source": [
    "def getrank(s):\n",
    "    if 1 <= s <= 25:\n",
    "        return 'rank1'\n",
    "    elif 26 <= s <= 50:\n",
    "        return 'rank2'\n",
    "    elif 51 <= s <= 75:\n",
    "        return 'rank3'\n",
    "    elif 76 <= s <= 100:\n",
    "        return 'rank4'\n",
    "    elif 101 <= s <= 125:\n",
    "        return 'rank5'\n",
    "    elif 126 <= s <= 150:\n",
    "        return 'rank6'\n",
    "    elif 151 <= s <= 175:\n",
    "        return 'rank7'\n",
    "    elif 176 <= s <= 200:\n",
    "        return 'rank8'\n",
    "    elif 201 <= s <= 225:\n",
    "        return 'rank9'\n",
    "    else:\n",
    "        return 'rank10'\n",
    "df['rank'] = df['rank'].apply(getrank)"
   ]
  },
  {
   "cell_type": "markdown",
   "metadata": {},
   "source": [
    "LaberEncoding"
   ]
  },
  {
   "cell_type": "code",
   "execution_count": 98,
   "metadata": {},
   "outputs": [],
   "source": [
    "le_rank = LabelEncoder()\n",
    "le_rank.fit(np.array(['rank1','rank2','rank3','rank4','rank5','rank6','rank7','rank8','rank9','rank10']))\n",
    "df['rank'] = le_rank.transform(df['rank'])  #对指定特征进行transform转换"
   ]
  },
  {
   "cell_type": "code",
   "execution_count": 99,
   "metadata": {},
   "outputs": [
    {
     "name": "stdout",
     "output_type": "stream",
     "text": [
      "['rank1' 'rank10' 'rank2' 'rank3' 'rank4' 'rank5' 'rank6' 'rank7' 'rank8'\n",
      " 'rank9']\n",
      "rank10\n"
     ]
    },
    {
     "name": "stderr",
     "output_type": "stream",
     "text": [
      "/Users/holden/anaconda3/lib/python3.7/site-packages/sklearn/preprocessing/label.py:151: DeprecationWarning: The truth value of an empty array is ambiguous. Returning False, but in future this will result in an error. Use `array.size > 0` to check that an array is not empty.\n",
      "  if diff:\n"
     ]
    }
   ],
   "source": [
    "print(le_rank.classes_)   # 查看编码的所有标签类别\n",
    "print(le_rank.inverse_transform(1))  #查看0对应的原标签类别"
   ]
  },
  {
   "cell_type": "markdown",
   "metadata": {},
   "source": [
    "get_dummies"
   ]
  },
  {
   "cell_type": "code",
   "execution_count": 100,
   "metadata": {},
   "outputs": [],
   "source": [
    "onehot_rank = pd.get_dummies(df['rank'],prefix='rank')\n",
    "df = pd.concat([df, onehot_rank], axis=1)"
   ]
  },
  {
   "cell_type": "markdown",
   "metadata": {},
   "source": [
    "directors"
   ]
  },
  {
   "cell_type": "markdown",
   "metadata": {},
   "source": [
    "将导演按照高分电影数量分类"
   ]
  },
  {
   "cell_type": "code",
   "execution_count": 101,
   "metadata": {},
   "outputs": [],
   "source": [
    "dic_dir = {}\n",
    "df_dir = df.drop_duplicates(subset=['name'],keep='first')\n",
    "for a,b in zip(df_dir['directors'].value_counts().index, df_dir['directors'].value_counts()):\n",
    "    dic_dir[a] = b"
   ]
  },
  {
   "cell_type": "code",
   "execution_count": 102,
   "metadata": {},
   "outputs": [],
   "source": [
    "for i, j in df.iterrows():\n",
    "    df.loc[i,'directors'] = dic_dir[df.loc[i,'directors']]"
   ]
  },
  {
   "cell_type": "code",
   "execution_count": 103,
   "metadata": {},
   "outputs": [],
   "source": [
    "onehot_directors = pd.get_dummies(df['directors'],prefix='directors')\n",
    "df = pd.concat([df, onehot_directors], axis=1) "
   ]
  },
  {
   "cell_type": "markdown",
   "metadata": {},
   "source": [
    "actors"
   ]
  },
  {
   "cell_type": "code",
   "execution_count": 104,
   "metadata": {},
   "outputs": [],
   "source": [
    "dic_act = {}\n",
    "df_act = df.drop_duplicates(subset=['name','actors'],keep='first')\n",
    "for a,b in zip(df_act['actors'].value_counts().index, df_act['actors'].value_counts()):\n",
    "    dic_act[a] = b"
   ]
  },
  {
   "cell_type": "code",
   "execution_count": 105,
   "metadata": {},
   "outputs": [],
   "source": [
    "for i, j in df.iterrows():\n",
    "    df.loc[i,'actors'] = dic_act[df.loc[i,'actors']]"
   ]
  },
  {
   "cell_type": "code",
   "execution_count": 106,
   "metadata": {},
   "outputs": [
    {
     "data": {
      "text/plain": [
       "array([1, 5, 2, 3, 8, 4, 7, 6])"
      ]
     },
     "execution_count": 106,
     "metadata": {},
     "output_type": "execute_result"
    }
   ],
   "source": [
    "df['actors'].unique()"
   ]
  },
  {
   "cell_type": "code",
   "execution_count": 107,
   "metadata": {},
   "outputs": [],
   "source": [
    "onehot_actors = pd.get_dummies(df['actors'],prefix='actors')\n",
    "df = pd.concat([df, onehot_actors], axis=1) "
   ]
  },
  {
   "cell_type": "markdown",
   "metadata": {},
   "source": [
    "type"
   ]
  },
  {
   "cell_type": "code",
   "execution_count": 108,
   "metadata": {},
   "outputs": [
    {
     "data": {
      "text/plain": [
       "array(['剧情', '犯罪', '同性', '爱情', '动作', '喜剧', '战争', '灾难', '奇幻', '动画', '历史',\n",
       "       '悬疑', '冒险', '科幻', '歌舞', '音乐', '家庭', '传记', '惊悚', '运动', '纪录片', '儿童',\n",
       "       '情色', '西部', '古装', '武侠', '恐怖'], dtype=object)"
      ]
     },
     "execution_count": 108,
     "metadata": {},
     "output_type": "execute_result"
    }
   ],
   "source": [
    "df['type'].unique()"
   ]
  },
  {
   "cell_type": "code",
   "execution_count": 109,
   "metadata": {},
   "outputs": [],
   "source": [
    "le_type = LabelEncoder()\n",
    "le_type.fit(np.array(['剧情', '犯罪', '同性', '爱情', '动作', '喜剧', '战争', '灾难', '奇幻', '动画', '历史',\n",
    "       '悬疑', '冒险', '科幻', '歌舞', '音乐', '家庭', '传记', '惊悚', '运动', '纪录片', '儿童',\n",
    "       '情色', '西部', '古装', '武侠', '恐怖']))\n",
    "df['type'] = le_type.transform(df['type'])"
   ]
  },
  {
   "cell_type": "code",
   "execution_count": 110,
   "metadata": {},
   "outputs": [],
   "source": [
    "onehot_type = pd.get_dummies(df['type'],prefix='type')\n",
    "df = pd.concat([df, onehot_type], axis=1)"
   ]
  },
  {
   "cell_type": "code",
   "execution_count": 111,
   "metadata": {},
   "outputs": [
    {
     "data": {
      "text/html": [
       "<div>\n",
       "<style scoped>\n",
       "    .dataframe tbody tr th:only-of-type {\n",
       "        vertical-align: middle;\n",
       "    }\n",
       "\n",
       "    .dataframe tbody tr th {\n",
       "        vertical-align: top;\n",
       "    }\n",
       "\n",
       "    .dataframe thead th {\n",
       "        text-align: right;\n",
       "    }\n",
       "</style>\n",
       "<table border=\"1\" class=\"dataframe\">\n",
       "  <thead>\n",
       "    <tr style=\"text-align: right;\">\n",
       "      <th></th>\n",
       "      <th>rank</th>\n",
       "      <th>name</th>\n",
       "      <th>directors</th>\n",
       "      <th>actors</th>\n",
       "      <th>type</th>\n",
       "      <th>showdate</th>\n",
       "      <th>runtime</th>\n",
       "      <th>showplace</th>\n",
       "      <th>language</th>\n",
       "      <th>score</th>\n",
       "      <th>...</th>\n",
       "      <th>type_17</th>\n",
       "      <th>type_18</th>\n",
       "      <th>type_19</th>\n",
       "      <th>type_20</th>\n",
       "      <th>type_21</th>\n",
       "      <th>type_22</th>\n",
       "      <th>type_23</th>\n",
       "      <th>type_24</th>\n",
       "      <th>type_25</th>\n",
       "      <th>type_26</th>\n",
       "    </tr>\n",
       "  </thead>\n",
       "  <tbody>\n",
       "    <tr>\n",
       "      <th>0</th>\n",
       "      <td>0</td>\n",
       "      <td>肖申克的救赎</td>\n",
       "      <td>2</td>\n",
       "      <td>1</td>\n",
       "      <td>3</td>\n",
       "      <td>1994</td>\n",
       "      <td>142</td>\n",
       "      <td>美国</td>\n",
       "      <td>英语</td>\n",
       "      <td>9.6</td>\n",
       "      <td>...</td>\n",
       "      <td>0</td>\n",
       "      <td>0</td>\n",
       "      <td>0</td>\n",
       "      <td>0</td>\n",
       "      <td>0</td>\n",
       "      <td>0</td>\n",
       "      <td>0</td>\n",
       "      <td>0</td>\n",
       "      <td>0</td>\n",
       "      <td>0</td>\n",
       "    </tr>\n",
       "    <tr>\n",
       "      <th>1</th>\n",
       "      <td>0</td>\n",
       "      <td>肖申克的救赎</td>\n",
       "      <td>2</td>\n",
       "      <td>1</td>\n",
       "      <td>21</td>\n",
       "      <td>1994</td>\n",
       "      <td>142</td>\n",
       "      <td>美国</td>\n",
       "      <td>英语</td>\n",
       "      <td>9.6</td>\n",
       "      <td>...</td>\n",
       "      <td>0</td>\n",
       "      <td>0</td>\n",
       "      <td>0</td>\n",
       "      <td>0</td>\n",
       "      <td>1</td>\n",
       "      <td>0</td>\n",
       "      <td>0</td>\n",
       "      <td>0</td>\n",
       "      <td>0</td>\n",
       "      <td>0</td>\n",
       "    </tr>\n",
       "    <tr>\n",
       "      <th>2</th>\n",
       "      <td>0</td>\n",
       "      <td>肖申克的救赎</td>\n",
       "      <td>2</td>\n",
       "      <td>5</td>\n",
       "      <td>3</td>\n",
       "      <td>1994</td>\n",
       "      <td>142</td>\n",
       "      <td>美国</td>\n",
       "      <td>英语</td>\n",
       "      <td>9.6</td>\n",
       "      <td>...</td>\n",
       "      <td>0</td>\n",
       "      <td>0</td>\n",
       "      <td>0</td>\n",
       "      <td>0</td>\n",
       "      <td>0</td>\n",
       "      <td>0</td>\n",
       "      <td>0</td>\n",
       "      <td>0</td>\n",
       "      <td>0</td>\n",
       "      <td>0</td>\n",
       "    </tr>\n",
       "    <tr>\n",
       "      <th>3</th>\n",
       "      <td>0</td>\n",
       "      <td>肖申克的救赎</td>\n",
       "      <td>2</td>\n",
       "      <td>5</td>\n",
       "      <td>21</td>\n",
       "      <td>1994</td>\n",
       "      <td>142</td>\n",
       "      <td>美国</td>\n",
       "      <td>英语</td>\n",
       "      <td>9.6</td>\n",
       "      <td>...</td>\n",
       "      <td>0</td>\n",
       "      <td>0</td>\n",
       "      <td>0</td>\n",
       "      <td>0</td>\n",
       "      <td>1</td>\n",
       "      <td>0</td>\n",
       "      <td>0</td>\n",
       "      <td>0</td>\n",
       "      <td>0</td>\n",
       "      <td>0</td>\n",
       "    </tr>\n",
       "    <tr>\n",
       "      <th>4</th>\n",
       "      <td>0</td>\n",
       "      <td>肖申克的救赎</td>\n",
       "      <td>2</td>\n",
       "      <td>1</td>\n",
       "      <td>3</td>\n",
       "      <td>1994</td>\n",
       "      <td>142</td>\n",
       "      <td>美国</td>\n",
       "      <td>英语</td>\n",
       "      <td>9.6</td>\n",
       "      <td>...</td>\n",
       "      <td>0</td>\n",
       "      <td>0</td>\n",
       "      <td>0</td>\n",
       "      <td>0</td>\n",
       "      <td>0</td>\n",
       "      <td>0</td>\n",
       "      <td>0</td>\n",
       "      <td>0</td>\n",
       "      <td>0</td>\n",
       "      <td>0</td>\n",
       "    </tr>\n",
       "  </tbody>\n",
       "</table>\n",
       "<p>5 rows × 73 columns</p>\n",
       "</div>"
      ],
      "text/plain": [
       "   rank    name  directors  actors  type  showdate  runtime showplace  \\\n",
       "0     0  肖申克的救赎          2       1     3      1994      142        美国   \n",
       "1     0  肖申克的救赎          2       1    21      1994      142        美国   \n",
       "2     0  肖申克的救赎          2       5     3      1994      142        美国   \n",
       "3     0  肖申克的救赎          2       5    21      1994      142        美国   \n",
       "4     0  肖申克的救赎          2       1     3      1994      142        美国   \n",
       "\n",
       "  language  score   ...     type_17  type_18  type_19  type_20  type_21  \\\n",
       "0       英语    9.6   ...           0        0        0        0        0   \n",
       "1       英语    9.6   ...           0        0        0        0        1   \n",
       "2       英语    9.6   ...           0        0        0        0        0   \n",
       "3       英语    9.6   ...           0        0        0        0        1   \n",
       "4       英语    9.6   ...           0        0        0        0        0   \n",
       "\n",
       "   type_22  type_23  type_24  type_25  type_26  \n",
       "0        0        0        0        0        0  \n",
       "1        0        0        0        0        0  \n",
       "2        0        0        0        0        0  \n",
       "3        0        0        0        0        0  \n",
       "4        0        0        0        0        0  \n",
       "\n",
       "[5 rows x 73 columns]"
      ]
     },
     "execution_count": 111,
     "metadata": {},
     "output_type": "execute_result"
    }
   ],
   "source": [
    "df.head()"
   ]
  },
  {
   "cell_type": "markdown",
   "metadata": {},
   "source": [
    "showdate"
   ]
  },
  {
   "cell_type": "code",
   "execution_count": 112,
   "metadata": {},
   "outputs": [],
   "source": [
    "df['showdate'] = df['showdate'].apply(lambda x: 2018 - x)"
   ]
  },
  {
   "cell_type": "code",
   "execution_count": 113,
   "metadata": {},
   "outputs": [
    {
     "data": {
      "text/plain": [
       "array([24, 25, 21, 20, 17,  8, 10,  9,  7, 14,  4, 46,  0, 15, 79,  2, 30,\n",
       "       61,  6, 18, 19, 26, 65, 12,  1,  5, 43, 29, 13, 44, 16, 23, 34, 53,\n",
       "       31, 28, 27, 57, 82,  3, 64, 11, 52, 66, 78, 22, 68, 39, 58, 87, 36,\n",
       "       76, 47, 50, 38])"
      ]
     },
     "execution_count": 113,
     "metadata": {},
     "output_type": "execute_result"
    }
   ],
   "source": [
    "df['showdate'].unique()"
   ]
  },
  {
   "cell_type": "markdown",
   "metadata": {},
   "source": [
    "几年划一个档？"
   ]
  },
  {
   "cell_type": "code",
   "execution_count": 114,
   "metadata": {},
   "outputs": [],
   "source": [
    "import matplotlib.pyplot as plt"
   ]
  },
  {
   "cell_type": "code",
   "execution_count": 115,
   "metadata": {},
   "outputs": [
    {
     "data": {
      "text/plain": [
       "<matplotlib.collections.PathCollection at 0x1a23504908>"
      ]
     },
     "execution_count": 115,
     "metadata": {},
     "output_type": "execute_result"
    },
    {
     "data": {
      "image/png": "[encoded data removed]",
      "text/plain": [
       "<Figure size 432x288 with 1 Axes>"
      ]
     },
     "metadata": {
      "needs_background": "light"
     },
     "output_type": "display_data"
    }
   ],
   "source": [
    "plt.scatter(df['showdate'].value_counts().index,df['showdate'].value_counts())"
   ]
  },
  {
   "cell_type": "code",
   "execution_count": 116,
   "metadata": {},
   "outputs": [],
   "source": [
    "def getshowdate(s):\n",
    "    if 0 <= s <= 10:\n",
    "        return '10years'\n",
    "    elif 10 < s <= 20:\n",
    "        return '20years'\n",
    "    elif 20 < s <= 30:\n",
    "        return '30years'\n",
    "    elif 30 < s <= 40:\n",
    "        return '40years'\n",
    "    elif 40 < s <= 50:\n",
    "        return '50years'\n",
    "    elif 50 < s <= 60:\n",
    "        return '60years'\n",
    "    elif 60 < s <= 70:\n",
    "        return '70years'\n",
    "    elif 70 < s <= 80:\n",
    "        return '80years'\n",
    "    elif 80 < s <= 90:\n",
    "        return '90years'\n",
    "    else:\n",
    "        return 'others'\n",
    "df['showdate'] = df['showdate'].apply(getshowdate)"
   ]
  },
  {
   "cell_type": "code",
   "execution_count": 117,
   "metadata": {},
   "outputs": [
    {
     "data": {
      "text/plain": [
       "array(['30years', '20years', '10years', '50years', '80years', '70years',\n",
       "       '40years', '60years', '90years'], dtype=object)"
      ]
     },
     "execution_count": 117,
     "metadata": {},
     "output_type": "execute_result"
    }
   ],
   "source": [
    "df['showdate'].unique()"
   ]
  },
  {
   "cell_type": "code",
   "execution_count": 118,
   "metadata": {},
   "outputs": [],
   "source": [
    "le_showdate = LabelEncoder()\n",
    "le_showdate.fit(np.array(['30years', '20years', '10years', '50years', '80years', '70years',\n",
    "       '40years', '60years', '90years']))\n",
    "df['showdate'] = le_showdate.transform(df['showdate'])"
   ]
  },
  {
   "cell_type": "code",
   "execution_count": 119,
   "metadata": {},
   "outputs": [],
   "source": [
    "onehot_showdate = pd.get_dummies(df['showdate'],prefix='showdate')\n",
    "df = pd.concat([df, onehot_showdate], axis=1)"
   ]
  },
  {
   "cell_type": "code",
   "execution_count": 120,
   "metadata": {},
   "outputs": [
    {
     "data": {
      "text/html": [
       "<div>\n",
       "<style scoped>\n",
       "    .dataframe tbody tr th:only-of-type {\n",
       "        vertical-align: middle;\n",
       "    }\n",
       "\n",
       "    .dataframe tbody tr th {\n",
       "        vertical-align: top;\n",
       "    }\n",
       "\n",
       "    .dataframe thead th {\n",
       "        text-align: right;\n",
       "    }\n",
       "</style>\n",
       "<table border=\"1\" class=\"dataframe\">\n",
       "  <thead>\n",
       "    <tr style=\"text-align: right;\">\n",
       "      <th></th>\n",
       "      <th>rank</th>\n",
       "      <th>name</th>\n",
       "      <th>directors</th>\n",
       "      <th>actors</th>\n",
       "      <th>type</th>\n",
       "      <th>showdate</th>\n",
       "      <th>runtime</th>\n",
       "      <th>showplace</th>\n",
       "      <th>language</th>\n",
       "      <th>score</th>\n",
       "      <th>...</th>\n",
       "      <th>type_26</th>\n",
       "      <th>showdate_0</th>\n",
       "      <th>showdate_1</th>\n",
       "      <th>showdate_2</th>\n",
       "      <th>showdate_3</th>\n",
       "      <th>showdate_4</th>\n",
       "      <th>showdate_5</th>\n",
       "      <th>showdate_6</th>\n",
       "      <th>showdate_7</th>\n",
       "      <th>showdate_8</th>\n",
       "    </tr>\n",
       "  </thead>\n",
       "  <tbody>\n",
       "    <tr>\n",
       "      <th>0</th>\n",
       "      <td>0</td>\n",
       "      <td>肖申克的救赎</td>\n",
       "      <td>2</td>\n",
       "      <td>1</td>\n",
       "      <td>3</td>\n",
       "      <td>2</td>\n",
       "      <td>142</td>\n",
       "      <td>美国</td>\n",
       "      <td>英语</td>\n",
       "      <td>9.6</td>\n",
       "      <td>...</td>\n",
       "      <td>0</td>\n",
       "      <td>0</td>\n",
       "      <td>0</td>\n",
       "      <td>1</td>\n",
       "      <td>0</td>\n",
       "      <td>0</td>\n",
       "      <td>0</td>\n",
       "      <td>0</td>\n",
       "      <td>0</td>\n",
       "      <td>0</td>\n",
       "    </tr>\n",
       "    <tr>\n",
       "      <th>1</th>\n",
       "      <td>0</td>\n",
       "      <td>肖申克的救赎</td>\n",
       "      <td>2</td>\n",
       "      <td>1</td>\n",
       "      <td>21</td>\n",
       "      <td>2</td>\n",
       "      <td>142</td>\n",
       "      <td>美国</td>\n",
       "      <td>英语</td>\n",
       "      <td>9.6</td>\n",
       "      <td>...</td>\n",
       "      <td>0</td>\n",
       "      <td>0</td>\n",
       "      <td>0</td>\n",
       "      <td>1</td>\n",
       "      <td>0</td>\n",
       "      <td>0</td>\n",
       "      <td>0</td>\n",
       "      <td>0</td>\n",
       "      <td>0</td>\n",
       "      <td>0</td>\n",
       "    </tr>\n",
       "    <tr>\n",
       "      <th>2</th>\n",
       "      <td>0</td>\n",
       "      <td>肖申克的救赎</td>\n",
       "      <td>2</td>\n",
       "      <td>5</td>\n",
       "      <td>3</td>\n",
       "      <td>2</td>\n",
       "      <td>142</td>\n",
       "      <td>美国</td>\n",
       "      <td>英语</td>\n",
       "      <td>9.6</td>\n",
       "      <td>...</td>\n",
       "      <td>0</td>\n",
       "      <td>0</td>\n",
       "      <td>0</td>\n",
       "      <td>1</td>\n",
       "      <td>0</td>\n",
       "      <td>0</td>\n",
       "      <td>0</td>\n",
       "      <td>0</td>\n",
       "      <td>0</td>\n",
       "      <td>0</td>\n",
       "    </tr>\n",
       "    <tr>\n",
       "      <th>3</th>\n",
       "      <td>0</td>\n",
       "      <td>肖申克的救赎</td>\n",
       "      <td>2</td>\n",
       "      <td>5</td>\n",
       "      <td>21</td>\n",
       "      <td>2</td>\n",
       "      <td>142</td>\n",
       "      <td>美国</td>\n",
       "      <td>英语</td>\n",
       "      <td>9.6</td>\n",
       "      <td>...</td>\n",
       "      <td>0</td>\n",
       "      <td>0</td>\n",
       "      <td>0</td>\n",
       "      <td>1</td>\n",
       "      <td>0</td>\n",
       "      <td>0</td>\n",
       "      <td>0</td>\n",
       "      <td>0</td>\n",
       "      <td>0</td>\n",
       "      <td>0</td>\n",
       "    </tr>\n",
       "    <tr>\n",
       "      <th>4</th>\n",
       "      <td>0</td>\n",
       "      <td>肖申克的救赎</td>\n",
       "      <td>2</td>\n",
       "      <td>1</td>\n",
       "      <td>3</td>\n",
       "      <td>2</td>\n",
       "      <td>142</td>\n",
       "      <td>美国</td>\n",
       "      <td>英语</td>\n",
       "      <td>9.6</td>\n",
       "      <td>...</td>\n",
       "      <td>0</td>\n",
       "      <td>0</td>\n",
       "      <td>0</td>\n",
       "      <td>1</td>\n",
       "      <td>0</td>\n",
       "      <td>0</td>\n",
       "      <td>0</td>\n",
       "      <td>0</td>\n",
       "      <td>0</td>\n",
       "      <td>0</td>\n",
       "    </tr>\n",
       "  </tbody>\n",
       "</table>\n",
       "<p>5 rows × 82 columns</p>\n",
       "</div>"
      ],
      "text/plain": [
       "   rank    name  directors  actors  type  showdate  runtime showplace  \\\n",
       "0     0  肖申克的救赎          2       1     3         2      142        美国   \n",
       "1     0  肖申克的救赎          2       1    21         2      142        美国   \n",
       "2     0  肖申克的救赎          2       5     3         2      142        美国   \n",
       "3     0  肖申克的救赎          2       5    21         2      142        美国   \n",
       "4     0  肖申克的救赎          2       1     3         2      142        美国   \n",
       "\n",
       "  language  score     ...      type_26  showdate_0  showdate_1  showdate_2  \\\n",
       "0       英语    9.6     ...            0           0           0           1   \n",
       "1       英语    9.6     ...            0           0           0           1   \n",
       "2       英语    9.6     ...            0           0           0           1   \n",
       "3       英语    9.6     ...            0           0           0           1   \n",
       "4       英语    9.6     ...            0           0           0           1   \n",
       "\n",
       "   showdate_3  showdate_4  showdate_5  showdate_6  showdate_7  showdate_8  \n",
       "0           0           0           0           0           0           0  \n",
       "1           0           0           0           0           0           0  \n",
       "2           0           0           0           0           0           0  \n",
       "3           0           0           0           0           0           0  \n",
       "4           0           0           0           0           0           0  \n",
       "\n",
       "[5 rows x 82 columns]"
      ]
     },
     "execution_count": 120,
     "metadata": {},
     "output_type": "execute_result"
    }
   ],
   "source": [
    "df.head()"
   ]
  },
  {
   "cell_type": "markdown",
   "metadata": {},
   "source": [
    "showplace"
   ]
  },
  {
   "cell_type": "code",
   "execution_count": 121,
   "metadata": {},
   "outputs": [],
   "source": [
    "dic_showplace = {}\n",
    "df_showplace = df.drop_duplicates(subset=['name'],keep='first')\n",
    "for a,b in zip(df_showplace['showplace'].value_counts().index, df_showplace['showplace'].value_counts()):\n",
    "    dic_showplace[a] = b"
   ]
  },
  {
   "cell_type": "code",
   "execution_count": 122,
   "metadata": {},
   "outputs": [
    {
     "data": {
      "text/plain": [
       "{'美国': 122,\n",
       " '日本': 31,\n",
       " '香港': 19,\n",
       " '英国': 15,\n",
       " '法国': 11,\n",
       " '中国大陆': 11,\n",
       " '意大利': 8,\n",
       " '韩国': 8,\n",
       " '台湾': 5,\n",
       " '德国': 4,\n",
       " '印度': 4,\n",
       " '伊朗': 2,\n",
       " '泰国': 1,\n",
       " '博茨瓦纳': 1,\n",
       " '新西兰': 1,\n",
       " '澳大利亚': 1,\n",
       " '阿根廷': 1,\n",
       " '爱尔兰': 1,\n",
       " '西班牙': 1,\n",
       " '丹麦': 1,\n",
       " '瑞典': 1,\n",
       " '巴西': 1}"
      ]
     },
     "execution_count": 122,
     "metadata": {},
     "output_type": "execute_result"
    }
   ],
   "source": [
    "dic_showplace"
   ]
  },
  {
   "cell_type": "code",
   "execution_count": 123,
   "metadata": {},
   "outputs": [],
   "source": [
    "for i, j in df.iterrows():\n",
    "    if dic_showplace[df.loc[i,'showplace']] > 1:\n",
    "        pass\n",
    "    else:\n",
    "        df.loc[i,'showplace'] = 'others'"
   ]
  },
  {
   "cell_type": "code",
   "execution_count": 124,
   "metadata": {},
   "outputs": [
    {
     "data": {
      "text/plain": [
       "array(['美国', '中国大陆', '法国', '意大利', '日本', '印度', '香港', '韩国', '德国', '英国',\n",
       "       'others', '台湾', '伊朗'], dtype=object)"
      ]
     },
     "execution_count": 124,
     "metadata": {},
     "output_type": "execute_result"
    }
   ],
   "source": [
    "df['showplace'].unique()"
   ]
  },
  {
   "cell_type": "code",
   "execution_count": 125,
   "metadata": {},
   "outputs": [],
   "source": [
    "le_showplace = LabelEncoder()\n",
    "le_showplace.fit(np.array(['美国', '中国大陆', '法国', '意大利', '日本', '印度', '香港', '韩国', '德国', '英国',\n",
    "       'others', '台湾', '伊朗']))\n",
    "df['showplace'] = le_showplace.transform(df['showplace'])"
   ]
  },
  {
   "cell_type": "code",
   "execution_count": 126,
   "metadata": {},
   "outputs": [],
   "source": [
    "onehot_showplace = pd.get_dummies(df['showplace'],prefix='showplace')\n",
    "df = pd.concat([df, onehot_showplace], axis=1)"
   ]
  },
  {
   "cell_type": "markdown",
   "metadata": {},
   "source": [
    "language"
   ]
  },
  {
   "cell_type": "code",
   "execution_count": 127,
   "metadata": {},
   "outputs": [],
   "source": [
    "dic_language = {}\n",
    "df_language = df.drop_duplicates(subset=['name'],keep='first')\n",
    "for a,b in zip(df_language['language'].value_counts().index, df_language['language'].value_counts()):\n",
    "    dic_language[a] = b"
   ]
  },
  {
   "cell_type": "code",
   "execution_count": 128,
   "metadata": {},
   "outputs": [],
   "source": [
    "for i, j in df.iterrows():\n",
    "    if dic_language[df.loc[i,'language']] >= 4:\n",
    "        pass\n",
    "    else:\n",
    "        df.loc[i,'language'] = 'others'"
   ]
  },
  {
   "cell_type": "code",
   "execution_count": 129,
   "metadata": {},
   "outputs": [
    {
     "data": {
      "text/plain": [
       "array(['英语', '汉语普通话', '意大利语', '日语', '印地语', '法语', '粤语', '韩语', 'others'],\n",
       "      dtype=object)"
      ]
     },
     "execution_count": 129,
     "metadata": {},
     "output_type": "execute_result"
    }
   ],
   "source": [
    "df['language'].unique()"
   ]
  },
  {
   "cell_type": "code",
   "execution_count": 130,
   "metadata": {},
   "outputs": [],
   "source": [
    "le_language = LabelEncoder()\n",
    "le_language.fit(np.array(['英语', '汉语普通话', '意大利语', '日语', '印地语', '法语', '粤语', '韩语', 'others']))\n",
    "df['language'] = le_language.transform(df['language'])"
   ]
  },
  {
   "cell_type": "code",
   "execution_count": 131,
   "metadata": {},
   "outputs": [],
   "source": [
    "onehot_language = pd.get_dummies(df['language'],prefix='language')\n",
    "df = pd.concat([df, onehot_language], axis=1)"
   ]
  },
  {
   "cell_type": "markdown",
   "metadata": {},
   "source": [
    "pearson相关性"
   ]
  },
  {
   "cell_type": "code",
   "execution_count": 132,
   "metadata": {},
   "outputs": [],
   "source": [
    "# import math"
   ]
  },
  {
   "cell_type": "code",
   "execution_count": 133,
   "metadata": {},
   "outputs": [],
   "source": [
    "# def calcMean(x,y):\n",
    "#     sum_x = sum(x)\n",
    "#     sum_y = sum(y)\n",
    "#     n = len(x)\n",
    "#     x_mean = float(sum_x+0.0)/n\n",
    "#     y_mean = float(sum_y+0.0)/n\n",
    "#     return x_mean,y_mean"
   ]
  },
  {
   "cell_type": "code",
   "execution_count": 134,
   "metadata": {},
   "outputs": [],
   "source": [
    "# def calcPearson(x,y):\n",
    "#     x_mean,y_mean = calcMean(x,y)\t#计算x,y向量平均值\n",
    "#     n = len(x)\n",
    "#     sumTop = 0.0\n",
    "#     sumBottom = 0.0\n",
    "#     x_pow = 0.0\n",
    "#     y_pow = 0.0\n",
    "#     for i in range(n):\n",
    "#         sumTop += (x[i]-x_mean)*(y[i]-y_mean)\n",
    "#     for i in range(n):\n",
    "#         x_pow += math.pow(x[i]-x_mean,2)\n",
    "#     for i in range(n):\n",
    "#         y_pow += math.pow(y[i]-y_mean,2)\n",
    "#     sumBottom = math.sqrt(x_pow*y_pow)\n",
    "#     p = sumTop/sumBottom\n",
    "#     return p"
   ]
  },
  {
   "cell_type": "code",
   "execution_count": 135,
   "metadata": {},
   "outputs": [],
   "source": [
    "# def calcAttribute(dataSet):\n",
    "#     prr = []\n",
    "#     n,m = dataSet.shape\n",
    "#     x = [0] * int(n)\n",
    "#     y = [0] * int(n)\n",
    "#     for i in range(n):\n",
    "#         y[i] = dataSet.iloc[i][m-1]\n",
    "#     for j in range(m-1):\n",
    "#         for k in range(n):\n",
    "#             x[k] = dataSet.iloc[k][j]\n",
    "#         prr.append(calcPearson(x,y))\n",
    "#     return prr"
   ]
  },
  {
   "cell_type": "code",
   "execution_count": 136,
   "metadata": {},
   "outputs": [],
   "source": [
    "# calcAttribute(df)"
   ]
  },
  {
   "cell_type": "code",
   "execution_count": 137,
   "metadata": {},
   "outputs": [],
   "source": [
    "# [-0.289637721786001,\n",
    "#  -0.09935596620394267,\n",
    "#  -0.02990679633340632,\n",
    "#  -0.01031626291450623,\n",
    "#  0.3726445360082335,\n",
    "#  0.4811140414398884,\n",
    "#  0.1380792961315783,\n",
    "#  0.18735313369846432,\n",
    "#  0.203536934123097,\n",
    "#  0.061870282540694876,\n",
    "#  -0.049852192487957685,\n",
    "#  -0.08256648869584908,\n",
    "#  0.08034629503511423,\n",
    "#  0.06536202490245786,\n",
    "#  0.20469220024247722,\n",
    "#  -0.1885711173010121,\n",
    "#  -0.19749662301417964,\n",
    "#  -0.19568930433129014,\n",
    "#  -0.1352852815099607]"
   ]
  },
  {
   "cell_type": "code",
   "execution_count": 138,
   "metadata": {},
   "outputs": [],
   "source": [
    "df = df.drop(['rank','name','directors','actors','type','showdate','showplace','language'],axis=1)"
   ]
  },
  {
   "cell_type": "markdown",
   "metadata": {},
   "source": [
    "modeling"
   ]
  },
  {
   "cell_type": "code",
   "execution_count": 139,
   "metadata": {},
   "outputs": [],
   "source": [
    "from sklearn.preprocessing import StandardScaler, MinMaxScaler"
   ]
  },
  {
   "cell_type": "code",
   "execution_count": 140,
   "metadata": {},
   "outputs": [],
   "source": [
    "train = df.drop('oscar',axis=1)\n",
    "target = df['oscar']"
   ]
  },
  {
   "cell_type": "code",
   "execution_count": 141,
   "metadata": {},
   "outputs": [
    {
     "data": {
      "text/plain": [
       "(9136, 95)"
      ]
     },
     "execution_count": 141,
     "metadata": {},
     "output_type": "execute_result"
    }
   ],
   "source": [
    "train.shape"
   ]
  },
  {
   "cell_type": "code",
   "execution_count": 142,
   "metadata": {},
   "outputs": [
    {
     "data": {
      "text/plain": [
       "(9136,)"
      ]
     },
     "execution_count": 142,
     "metadata": {},
     "output_type": "execute_result"
    }
   ],
   "source": [
    "target.shape"
   ]
  },
  {
   "cell_type": "markdown",
   "metadata": {},
   "source": [
    "标准化"
   ]
  },
  {
   "cell_type": "code",
   "execution_count": 143,
   "metadata": {},
   "outputs": [],
   "source": [
    "train = StandardScaler().fit_transform(train)"
   ]
  },
  {
   "cell_type": "markdown",
   "metadata": {},
   "source": [
    "区间缩放"
   ]
  },
  {
   "cell_type": "code",
   "execution_count": 144,
   "metadata": {},
   "outputs": [],
   "source": [
    "train = MinMaxScaler().fit_transform(train)"
   ]
  },
  {
   "cell_type": "code",
   "execution_count": 145,
   "metadata": {},
   "outputs": [
    {
     "name": "stderr",
     "output_type": "stream",
     "text": [
      "/Users/holden/anaconda3/lib/python3.7/site-packages/sklearn/ensemble/weight_boosting.py:29: DeprecationWarning: numpy.core.umath_tests is an internal NumPy module and should not be imported. It will be removed in a future NumPy release.\n",
      "  from numpy.core.umath_tests import inner1d\n"
     ]
    }
   ],
   "source": [
    "from sklearn.neighbors import KNeighborsClassifier\n",
    "from sklearn.tree import DecisionTreeClassifier\n",
    "from sklearn.ensemble import RandomForestClassifier\n",
    "from sklearn.naive_bayes import GaussianNB\n",
    "from sklearn.svm import SVC"
   ]
  },
  {
   "cell_type": "code",
   "execution_count": 146,
   "metadata": {},
   "outputs": [],
   "source": [
    "from sklearn.model_selection import KFold\n",
    "from sklearn.model_selection import cross_val_score\n",
    "from sklearn.model_selection import train_test_split\n",
    "k_fold = KFold(n_splits=10, shuffle=True, random_state=0)"
   ]
  },
  {
   "cell_type": "markdown",
   "metadata": {},
   "source": [
    "knn"
   ]
  },
  {
   "cell_type": "code",
   "execution_count": 147,
   "metadata": {},
   "outputs": [
    {
     "name": "stdout",
     "output_type": "stream",
     "text": [
      "[0.99781182 0.99781182 0.99671772 1.         0.99781182 0.99234136\n",
      " 0.99342826 0.99780942 0.99890471 0.99561884]\n"
     ]
    }
   ],
   "source": [
    "clf = KNeighborsClassifier(n_neighbors = 13)\n",
    "scoring = 'accuracy'\n",
    "score = cross_val_score(clf, train, target, cv=k_fold, n_jobs=1, scoring=scoring)\n",
    "print(score)"
   ]
  },
  {
   "cell_type": "code",
   "execution_count": 148,
   "metadata": {},
   "outputs": [
    {
     "data": {
      "text/plain": [
       "99.68"
      ]
     },
     "execution_count": 148,
     "metadata": {},
     "output_type": "execute_result"
    }
   ],
   "source": [
    "# kNN Score\n",
    "round(np.mean(score)*100, 2)"
   ]
  },
  {
   "cell_type": "markdown",
   "metadata": {},
   "source": [
    "Decision Tree"
   ]
  },
  {
   "cell_type": "code",
   "execution_count": 149,
   "metadata": {},
   "outputs": [
    {
     "name": "stdout",
     "output_type": "stream",
     "text": [
      "[1.         1.         1.         1.         1.         1.\n",
      " 0.99671413 1.         1.         1.        ]\n"
     ]
    }
   ],
   "source": [
    "clf = DecisionTreeClassifier()\n",
    "scoring = 'accuracy'\n",
    "score = cross_val_score(clf, train, target, cv=k_fold, n_jobs=1, scoring=scoring)\n",
    "print(score)"
   ]
  },
  {
   "cell_type": "code",
   "execution_count": 150,
   "metadata": {},
   "outputs": [
    {
     "data": {
      "text/plain": [
       "99.97"
      ]
     },
     "execution_count": 150,
     "metadata": {},
     "output_type": "execute_result"
    }
   ],
   "source": [
    "# decision tree Score\n",
    "round(np.mean(score)*100, 2)"
   ]
  },
  {
   "cell_type": "markdown",
   "metadata": {},
   "source": [
    "Ramdom Forest"
   ]
  },
  {
   "cell_type": "code",
   "execution_count": 151,
   "metadata": {},
   "outputs": [
    {
     "name": "stdout",
     "output_type": "stream",
     "text": [
      "[1. 1. 1. 1. 1. 1. 1. 1. 1. 1.]\n"
     ]
    }
   ],
   "source": [
    "clf = RandomForestClassifier(n_estimators=13)\n",
    "scoring = 'accuracy'\n",
    "score = cross_val_score(clf, train, target, cv=k_fold, n_jobs=1, scoring=scoring)\n",
    "print(score)"
   ]
  },
  {
   "cell_type": "code",
   "execution_count": 152,
   "metadata": {},
   "outputs": [
    {
     "data": {
      "text/plain": [
       "100.0"
      ]
     },
     "execution_count": 152,
     "metadata": {},
     "output_type": "execute_result"
    }
   ],
   "source": [
    "# Random Forest Score\n",
    "round(np.mean(score)*100, 2)"
   ]
  },
  {
   "cell_type": "markdown",
   "metadata": {},
   "source": [
    "Naive Bayes"
   ]
  },
  {
   "cell_type": "code",
   "execution_count": 153,
   "metadata": {},
   "outputs": [
    {
     "name": "stdout",
     "output_type": "stream",
     "text": [
      "[0.79978118 0.80196937 0.80853392 0.76695842 0.81291028 0.79212254\n",
      " 0.84008762 0.79956188 0.78094195 0.80394304]\n"
     ]
    }
   ],
   "source": [
    "clf = GaussianNB()\n",
    "scoring = 'accuracy'\n",
    "score = cross_val_score(clf, train, target, cv=k_fold, n_jobs=1, scoring=scoring)\n",
    "print(score)"
   ]
  },
  {
   "cell_type": "code",
   "execution_count": 154,
   "metadata": {},
   "outputs": [
    {
     "data": {
      "text/plain": [
       "80.07"
      ]
     },
     "execution_count": 154,
     "metadata": {},
     "output_type": "execute_result"
    }
   ],
   "source": [
    "# Naive Bayes Score\n",
    "round(np.mean(score)*100, 2)"
   ]
  },
  {
   "cell_type": "markdown",
   "metadata": {},
   "source": [
    "SVM"
   ]
  },
  {
   "cell_type": "code",
   "execution_count": 155,
   "metadata": {},
   "outputs": [
    {
     "name": "stdout",
     "output_type": "stream",
     "text": [
      "[0.96608315 0.96827133 0.96280088 0.96717724 0.96936543 0.95842451\n",
      " 0.97042716 0.96495071 0.96056955 0.96495071]\n"
     ]
    }
   ],
   "source": [
    "clf = SVC()\n",
    "scoring = 'accuracy'\n",
    "score = cross_val_score(clf, train, target, cv=k_fold, n_jobs=1, scoring=scoring)\n",
    "print(score)"
   ]
  },
  {
   "cell_type": "code",
   "execution_count": 156,
   "metadata": {},
   "outputs": [
    {
     "data": {
      "text/plain": [
       "96.53"
      ]
     },
     "execution_count": 156,
     "metadata": {},
     "output_type": "execute_result"
    }
   ],
   "source": [
    "round(np.mean(score)*100,2)"
   ]
  },
  {
   "cell_type": "markdown",
   "metadata": {},
   "source": [
    "xgboost"
   ]
  },
  {
   "cell_type": "code",
   "execution_count": 157,
   "metadata": {},
   "outputs": [],
   "source": [
    "from xgboost import XGBClassifier\n",
    "from sklearn.model_selection import train_test_split\n",
    "from sklearn.metrics import accuracy_score"
   ]
  },
  {
   "cell_type": "code",
   "execution_count": null,
   "metadata": {},
   "outputs": [],
   "source": [
    "X_train, X_test, y_train, y_test = train_test_split(train,target,test_size=0.2,random_state=0)\n",
    "model = XGBClassifier()\n",
    "model.fit(X_train,y_train)"
   ]
  },
  {
   "cell_type": "code",
   "execution_count": null,
   "metadata": {},
   "outputs": [],
   "source": [
    "y_pred = model.predict(X_test)\n",
    "predictions = [round(value) for value in y_pred]"
   ]
  },
  {
   "cell_type": "code",
   "execution_count": null,
   "metadata": {},
   "outputs": [],
   "source": [
    "accuracy = accuracy_score(y_test,predictions)\n",
    "print((accuracy * 100.0))"
   ]
  }
 ],
 "metadata": {
  "kernelspec": {
   "display_name": "Python 3",
   "language": "python",
   "name": "python3"
  },
  "language_info": {
   "codemirror_mode": {
    "name": "ipython",
    "version": 3
   },
   "file_extension": ".py",
   "mimetype": "text/x-python",
   "name": "python",
   "nbconvert_exporter": "python",
   "pygments_lexer": "ipython3",
   "version": "3.6.7"
  }
 },
 "nbformat": 4,
 "nbformat_minor": 2
}
